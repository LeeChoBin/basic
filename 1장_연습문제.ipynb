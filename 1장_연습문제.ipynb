{
  "nbformat": 4,
  "nbformat_minor": 0,
  "metadata": {
    "colab": {
      "name": "1장 연습문제.ipynb",
      "provenance": [],
      "collapsed_sections": [],
      "authorship_tag": "ABX9TyNIkIxZbc1z4RzgTl6dANSB",
      "include_colab_link": true
    },
    "kernelspec": {
      "name": "python3",
      "display_name": "Python 3"
    },
    "language_info": {
      "name": "python"
    }
  },
  "cells": [
    {
      "cell_type": "markdown",
      "metadata": {
        "id": "view-in-github",
        "colab_type": "text"
      },
      "source": [
        "<a href=\"https://colab.research.google.com/github/LeeChoBin/basic/blob/main/1%EC%9E%A5_%EC%97%B0%EC%8A%B5%EB%AC%B8%EC%A0%9C.ipynb\" target=\"_parent\"><img src=\"https://colab.research.google.com/assets/colab-badge.svg\" alt=\"Open In Colab\"/></a>"
      ]
    },
    {
      "cell_type": "code",
      "metadata": {
        "colab": {
          "base_uri": "https://localhost:8080/",
          "height": 139
        },
        "id": "DZkQbUM-j8QM",
        "outputId": "2099597a-2245-4256-a0cc-26464ac064ad"
      },
      "source": [
        "문제 1.\"환영합니다\", \"파이썬의 세계에 오신 것을 환영합니다\", \"파이썬은 강력합니다\"를 화면에 출력하는 프로그램을 작성하시오.\n",
        "\n",
        "print(\"환영합니다\")\n",
        "print(\"파이썬의 세계에 오신 것을 환영합니다\")\n",
        "print(\"파이썬은 강력합니다\")\n",
        "\n",
        "문제2.다음 프로그램의 실행 결과를 쓰시오.print(\"반갑습니다. 파이썬! \")print(2*3/10)print(\"Hello\",\"World\",\"!!!\")\n",
        "print(\"반갑습니다. 파이썬!\")\n",
        "print(2*3/10)\n",
        "print(\"Hello\",\"World\",\"!!!\")\n",
        "반갑습니다,파이썬\n",
        "0.6\n",
        "Hello World!!!\n",
        "\n",
        "문제 3. 파이썬을 사용해서 한 주가 몇 시간에 해당하는지 계산하여라.\n",
        "print(7*24)\n",
        "168\n",
        "\n",
        "문제 4.터틀 그래픽에서 거북이를 이동시켜 그림과 같이 그려보자. foward()와 right(), left()함수만 사용하라.\n",
        "import turtlet #turtle 모듈을 불러온다.\n",
        "t=turtle.Turtle() #turtle을 t로 선언\n",
        "t.share(\"turtle\") #turtle 모듈의 아이콘을 거북이 모양으로 선언\n",
        "t.foward(100)  # 100픽셀 민큼 직진\n",
        "t.left(90)     # 왼쪽으로 90도 회전\n",
        "t.foward(100)  # 100픽셀 만큼 직진\n",
        "t.left(90)     # 왼쪽으로 90도 회전\n",
        "t.foward(100)  #100픽셀 만큼 회전\n",
        "t.left(90)     #왼쪽으로 90도 회전\n",
        "t.foward(100)  #100픽셀 만큼 직진\n",
        "t.left(90)     #왼쪽으로 90도 회전 \n",
        "t.foward(100)  #100픽셀 만큼 직진\n",
        "exihonclick()  #화면을 마우스로 클릭해야 종료되는 부분\n",
        "\n",
        "문제 5. 터틀 그래픽에서 width()함수를 호출하면 거북이가 그리는 선의 두께를 두껍게 한다. 거북이를 이동하여서 다음과 같이 두께가 10인 선을 그려보자.\n",
        "import turtle           #turtle 모듈을 불러온다.\n",
        "t=turtle.Turtle()       #turtle을 t로 선언\n",
        "t.shape(\"turtle\")       #turtle 모듈의 아이콘을 거북이 모양으로 선언\n",
        "t.width(10)             #선의 굵기를 10으로 한다.\n",
        "t.foward(100)           #100 픽셀만큼 직진\n",
        "t.left(90)              #90도 회전\n",
        "t.foward(100)           # 100 픽셀만큼 직진        \n",
        "t._screen.exihonclick() #화면을 마우스로 클릭해야 종료되는 부분\n",
        "\n",
        "문제 6,터틀 그래픽에서 color() 함수를 호출하면 거북이가 그리는 선의 색상을 변경 할 수 있다. 색상을 파란색으로 하여 다음과 같이 길이가 100 픽셀인 선을 그려보자.\n",
        "import turtle           #turtle 모듈을 불러온다\n",
        "t=turtle.Turtle()       #turtle을 t로 선언\n",
        "t.shape(\"turtle\")       #turtle 모듈의 아이콘을 거북이 모양으로 선언\n",
        "t.color(\"blue\")         #색을 파란색으로 지정\n",
        "t.forword(100)          #100 픽셀 직진\n",
        "t._screen.exihonclick() #화면을 마우스로 클릭해야 종료되게 하는 부분\n",
        "\n",
        "문제 7. 터틀 그레픽에서는 거북이의 모양을 삼각형, 원, 사각형으로 변경 할 수 있다. 다음과 같이 share() 함수를 사용하면 된다. 사각형으로 변경하고 100 픽셀 길이의 직선을 그려보자.\n",
        "import turtle           #turtle 모듈을 불러온다\n",
        "t=turtle.Turtle()       #turtle을 t로 선언\n",
        "t.shape(\"turtle\")       #turtle 모듈의 아이콘을 거북이 모양으로 선언\n",
        "t.shape(\"squre\")        #turtle 모듈의 아이콘을 사각형 모양으로 선언\n",
        "t.forword(100)          #100 픽셀 전진\n",
        "t._screen.exihonclick() #화면을 마우스로 클릭해야 종료되게 하는 부분\n",
        "\n",
        "문제 8. 터틀 그래픽에서 거북이가 이동할 때 선이 그려지지 않게 하려면 t.up()하여 펜을 들 수 있다, 반대로 t.down()은 펜을 내려놓는 명령어이다. 거북이를 화면 좌표(100,200)으로 \n",
        "이동시키려면 t.goto(100,200)을 호출한다. 이들 명령어를 조합하여 다음과 같은 그림을 그려보자.\n",
        "import turtle           #turtle 모듈을 불러온다\n",
        "t=turtle.Turtle()       #turtle을 t로 선언\n",
        "t.shape(\"turtle\")       #turtle 모듈의 아이콘을 거북이 모양으로 선언\n",
        "t.up()                  #펜을 올린다       \n",
        "t.goto(0,0)             #(0,0)으로 이동\n",
        "t.down()                #펜을 내린다\n",
        "t.forword(100)          #100 픽셀 직진\n",
        "\n",
        "t.up()                  #펜을 올린다\n",
        "t.goto(0.100)           #(0,100)으로 이동\n",
        "t.down()                #펜을 내린다\n",
        "t.forword(100)          #100픽셀 직진\n",
        "t._screen.exihonclick() #화면을 마우스로 클릭해야 종료되게 하는 부분\n",
        "\n",
        "문제 9. 터틀 그래픽에서 t.circle(100)이라고 입력하고 실행하면 화면에 반지름이 100인 원이 그려진다. 이들 명령어를 조합하여 화면에 오륜기를 그리는 프로그램을 작성해 보자.\n",
        "import turtle           #turtle 모듈을 불러온다\n",
        "t=turtle.Turtle()       #turtle을 t로 선언\n",
        "t.shape(\"turtle\")       #turtle 모듈의 아이콘을 거북이 모양으로 선언\n",
        "\n",
        "t.up()                  #펜을 올린다\n",
        "t.goto(-150,0)          #(-150,0)으로 이동\n",
        "t,down()                #펜을 내린다\n",
        "t.circle(80)            #반지름이 80인 원을 그린다\n",
        "\n",
        "t.up()                  #펜을 올린다\n",
        "t.goto(0,0)             #(0.0)으로 이동\n",
        "t.down()                #펜을 내린다\n",
        "t.circle(80)            #반지름이 80인 원을 그린다\n",
        "\n",
        "t.up()                  #펜을 올린다\n",
        "t.goto(150,0)           #(150,0)으로 이동 \n",
        "t.down()                #펜을 내린다\n",
        "t.circle()              #반지름이 80인 원을 그린다.\n",
        "\n",
        "t.up()                  #펜을 올린다\n",
        "t.goto(-80,-100)        #(-80,-100)으로 이동\n",
        "t.down()                #펜을 내린다\n",
        "t.circle(80)            #반지름이 80인 원을 그린다\n",
        "\n",
        "t.up()                  #펜을 올린다\n",
        "t.goto(80,-100)         #(80,-100)으로 이동\n",
        "t,down()                #펜을 내린다\n",
        "t.circle()              #반지름이 80인 원을 그린다\n",
        "t._screen.exihonclick() #화면을 마우스로 클릭해야 종료되게 하는 부분\n"
      ],
      "execution_count": null,
      "outputs": [
        {
          "output_type": "error",
          "ename": "SyntaxError",
          "evalue": "ignored",
          "traceback": [
            "\u001b[0;36m  File \u001b[0;32m\"<ipython-input-1-c5c7988fdb06>\"\u001b[0;36m, line \u001b[0;32m1\u001b[0m\n\u001b[0;31m    문제 1.\"환영합니다\", \"파이썬의 세계에 오신 것을 환영합니다\", \"파이썬은 강력합니다\"를 화면에 출력하는 프로그램을 작성하시오.\u001b[0m\n\u001b[0m        ^\u001b[0m\n\u001b[0;31mSyntaxError\u001b[0m\u001b[0;31m:\u001b[0m invalid syntax\n"
          ]
        }
      ]
    }
  ]
}
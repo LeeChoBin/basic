{
  "nbformat": 4,
  "nbformat_minor": 0,
  "metadata": {
    "colab": {
      "name": "연습문제4.ipynb",
      "provenance": [],
      "authorship_tag": "ABX9TyMyIsY1Gbs30s0jf8vT08hQ",
      "include_colab_link": true
    },
    "kernelspec": {
      "name": "python3",
      "display_name": "Python 3"
    },
    "language_info": {
      "name": "python"
    }
  },
  "cells": [
    {
      "cell_type": "markdown",
      "metadata": {
        "id": "view-in-github",
        "colab_type": "text"
      },
      "source": [
        "<a href=\"https://colab.research.google.com/github/LeeChoBin/basic/blob/main/%EC%97%B0%EC%8A%B5%EB%AC%B8%EC%A0%9C4.ipynb\" target=\"_parent\"><img src=\"https://colab.research.google.com/assets/colab-badge.svg\" alt=\"Open In Colab\"/></a>"
      ]
    },
    {
      "cell_type": "code",
      "metadata": {
        "id": "VLeIMzlNumCV"
      },
      "source": [
        "1.왜 다음과 같은 수식이 오류를 발생시키는가?올바르게 수정하라. #\"나는\"+12+\"개의 사과를 먹었다\"\n",
        "\"나는\"+str(12)+\"개의 사과를 먹었다.\"\n",
        "\n",
        "2.다음과 같은 수식을 계산하면 결과는 무엇인가?\n",
        "\"apple\"+\"grape\" #applegrape\n",
        "\"apple\"*3 #appleappleapple\n",
        "\n",
        "3.다음과 같이 사용자가 입력한 문자열 중에서 처음 2글자와 마지막 2글자를 추출한 후에 이들을 합쳐서 출력해 보자.\n",
        "str=input(\"문자열을 입력하시오: \") #변수 str 선언 문자열로 입력\n",
        "s=str[0:2]+str[-2:]\n",
        "\n",
        "print(s)\n",
        "\n",
        "4.다음과 같이 사용자가 입력한 문자열 뒤에 항상 \"하는 중\"를 붙이는 프로그램을 작성해보자\n",
        "s=input(\"문자열을 입력하시오: \") #변수 s를 선언 문자열로 입력\n",
        "s +=\"하는 중\"\n",
        "print(s)\n",
        "\n",
        "5.사용자가 입력한 기호 안에 문자열을 삽입하려면 어떻게 해야하는가? 기호는 문자 2개로 이루어졌다고 가정한다.\n",
        "str=input(\"기호를 입력하시오: \") #변수 str를 선언 문자열로 입력\n",
        "world=input(\"중간에 삽입할 문자열을 입력하시오: \") #변수 world를 선언 문자열로 입력\n",
        "s=str[:1]+str[1:]\n",
        "\n",
        "print(s)\n",
        "\n",
        "6.4개의 숫자가 들어 있는 리스트가 있다. 리스트 안의 숫자들을 꺼내서 합계를 계산하여 출력하는 프로그램을 작성하라. 반복문은 사용하지 않는다.\n",
        "lista=[1,2,3,4]\n",
        "sum=0\n",
        "sum=lista[0]+lista[1]+lista[2]+lista[3]\n",
        "print(\"리스트\",lista)\n",
        "print(\"리스트 숫자들의 합= \",sum)\n",
        "\n",
        "7.사용지가 입력하는 3가지 색상을 리스트에 저장하였다가 하나씩 꺼내서 그 색상으로 채워진 원을 그리는 프로그램을 작성해보자. 반복문은 사용하지 않는다. 리스트의 길이는 항상 4라고 가정한다.  \n",
        "import turtle #turtle 모듈을 불러온다\n",
        "t=turtle.Turtle() #turtle을 t로 선언\n",
        "t.shape(\"turtle\") #turtle 모듈의 아이콘을 거북이 모양으로 정함\n",
        "\n",
        "lista=[]\n",
        "color=input(\"색상 #1을 입력하시오: \") #변수 color선언 문자열로 받음\n",
        "lista.apend(color) #append는 리스트에 추가하라는 것\n",
        "color=input(\"색상 #2을 입력하시오: \") #변수 color 선언 문자열로 받음\n",
        "lista.append(color) #append는 리스트에 추가하라는 것\n",
        "color=input(\"색상 #3을 입력하시오: \") #변수 color 선언 문자열로 받음\n",
        "lista.append(color) #append는 리스트에 추가하라는 것\n",
        "\n",
        "t.fillcolor(lista[0]) # lista[0]으로 색을 채움\n",
        "t.begin_fill() #색채우기 시작\n",
        "t.circle(50) #반지름이 50인 원 그림\n",
        "t.end_fill() #색 체우기 끝\n",
        "\n",
        "t.up() #펜을 올림\n",
        "t.goto(100,0) #(100,0)으로 이동\n",
        "t.down() #펜 내림\n",
        "t.fillcolor(lista[1]) #lista[1]으로 색을 채움\n",
        "t.begin_fill() #색 채우기 시작\n",
        "t.circle(50) #반지름이 50인 원그림 \n",
        "t.end_fill() #색 채우기 끝\n",
        "\n",
        "t.up() #펜 올림\n",
        "t.goto(200,0)#(200,0)으로 이동\n",
        "t.down() #펜 내림\n",
        "t.fillcolor(lista[2]) #lista[2]으로 색을 채움\n",
        "t.begin_fill() #색 채우기 시작\n",
        "t.circle(50) #반지름이 인 원 그림\n",
        "t.end_fill() #색 채우기 끝\n",
        "t._screen.exitonclick() #화면을 마우스로 클릭해야 종료되는 부분\n",
        "\n",
        "8.사용자가 입력하는 3개의 죄표 (x,y)를 리스트에 저장한다. 이들 좌표를 꺼내서 거북이를 이동하는 프로그램을 작성해보자.\n",
        "import turtle #turtle모듈을 불러온다\n",
        "t=turtle.Turtle() #turtle을 t로 선언\n",
        "t.shape(\"turtle\") #turtle 모듈의 아이콘을 거북이 모양으로 선언\n",
        "\n",
        "lista=[]\n",
        "lista.append(int(input(\"x1: \"))) #append는 추가,x1 정수형으로 받음\n",
        "lista.append(int(input(\"y1: \"))) #append는 추가,y1 정수형으로 받음\n",
        "lista.append(int(input(\"x2: \"))) #append는 추가,x2 정수형으로 받음\n",
        "lista.append(int(input(\"y2: \"))) #append는 추가,y2 정수형으로 받음\n",
        "lista.append(int(input(\"x3: \"))) #append는 추가,x3 정수형으로 받음\n",
        "lista.append(int(input(\"y3: \"))) #append는 추가,y3 정수형으로 받음\n",
        "\n",
        "t.goto(lista[0],lista[1]) #(lista[0],lista[1])로 이동\n",
        "t.goto(lista[2],lista[3]) #(lista[2],lista][3])로 이동\n",
        "t.goto(lista[4],lista[5]) #(lista[4],lista[5])로 이동\n",
        "t._screen.exitonclick() #화면을 마우스로 클릭해야 종료되는 부분"
      ],
      "execution_count": null,
      "outputs": []
    }
  ]
}
{
  "nbformat": 4,
  "nbformat_minor": 0,
  "metadata": {
    "colab": {
      "name": "도전문제2 .ipynb",
      "provenance": [],
      "authorship_tag": "ABX9TyPxxTbQrJXvc8tONSwTf7X4",
      "include_colab_link": true
    },
    "kernelspec": {
      "name": "python3",
      "display_name": "Python 3"
    },
    "language_info": {
      "name": "python"
    }
  },
  "cells": [
    {
      "cell_type": "markdown",
      "metadata": {
        "id": "view-in-github",
        "colab_type": "text"
      },
      "source": [
        "<a href=\"https://colab.research.google.com/github/LeeChoBin/basic/blob/main/%EB%8F%84%EC%A0%84%EB%AC%B8%EC%A0%9C2_.ipynb\" target=\"_parent\"><img src=\"https://colab.research.google.com/assets/colab-badge.svg\" alt=\"Open In Colab\"/></a>"
      ]
    },
    {
      "cell_type": "code",
      "metadata": {
        "id": "hrAU5jTZIldz"
      },
      "source": [
        "1.무엇이 출력될까?\n",
        "(1) x=7\n",
        "    y=6\n",
        "    print(x+y) #13 \n",
        "(2) x=\"7\"\n",
        "    y=\"6\"\n",
        "    print(x+y) #76\n",
        "2.거북이가 앞으로 움직이는 거리도 변수x에 저장하여 보자. 변수의 값을 변경하면서 위의 프로그램을 실행하여 보자. \n",
        "import turtle #turtle 모듈을 불러온다\n",
        "t=turtle.Turtle() #turtle을 t로 선언\n",
        "t.shape(\"turtle\") #turtle모듈의 아이콘을 거북이 모양으로 한다\n",
        "radius=50  #변수 radius와 값을 선언\n",
        "x=30 #변수 x와 값을 선언\n",
        "t.circle(\"radius\") #반지름이 50인 원이 그려진다\n",
        "t.forward(x) #30픽셀 직진\n",
        "t.circle(\"radius\") #반지름이 50인 원이 그려진다\n",
        "\n",
        "x=50 #변수 x와 값을 선언 \n",
        "t.forward(x) #50픽셀 전진\n",
        "t.circle(\"radius\") #반지름이 50인 원이 그려진다\n",
        "\n",
        "3.사용자로부터 2개의 정수를 받아서 사칙연산(+,-,*,/)을 한 후에 결과를 출력하는 프로그램을 작성해보자.\n",
        "x=int(input(\"첫번째 정수를 입력하시오: \")) #변수 x를 선언하고 정수형으로 받는다\n",
        "y=int(input(\"두번째 정수를 입력하시오: \")) #변수 y를 선언하고 정수형으로 받는다\n",
        "\n",
        "print(x,\"+\",y,\"=\",x+y) #더하기\n",
        "print(x,\"-\",y,\"=\",x-y) #빼기\n",
        "print(x,\"*\",y,\"=\",x*y) #곱하기\n",
        "print(x,\"/\",y,\"=\",x/y) #나누기\n"
      ],
      "execution_count": null,
      "outputs": []
    }
  ]
}
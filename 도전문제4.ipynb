{
  "nbformat": 4,
  "nbformat_minor": 0,
  "metadata": {
    "colab": {
      "name": "도전문제4.ipynb",
      "provenance": [],
      "authorship_tag": "ABX9TyNk1ywEZLQinjQVWJqy7O3O",
      "include_colab_link": true
    },
    "kernelspec": {
      "name": "python3",
      "display_name": "Python 3"
    },
    "language_info": {
      "name": "python"
    }
  },
  "cells": [
    {
      "cell_type": "markdown",
      "metadata": {
        "id": "view-in-github",
        "colab_type": "text"
      },
      "source": [
        "<a href=\"https://colab.research.google.com/github/LeeChoBin/basic/blob/main/%EB%8F%84%EC%A0%84%EB%AC%B8%EC%A0%9C4.ipynb\" target=\"_parent\"><img src=\"https://colab.research.google.com/assets/colab-badge.svg\" alt=\"Open In Colab\"/></a>"
      ]
    },
    {
      "cell_type": "code",
      "metadata": {
        "id": "RcNuaF-wi_48"
      },
      "source": [
        "1.사각형의 각변에 \"안녕하세요?홍길동씨 인사드립니다.\"를 출력해 보자.\n",
        "import turtle #turtle 모듈을 불러온다\n",
        "t=turtleTurtle() #tuetle을 t로 선언\n",
        "t.shape(\"turtle\") #turtle모듈의 아이콘을 거북이 모양으로 선언\n",
        "\n",
        "s=turtle.textinput(\"\",\"이름을 입력하시오: \")\n",
        "\n",
        "for i in range(4): #4번 반복\n",
        "  t.write(\"안녕하세요?\"+s+\"씨, 터틀 인사드립니다\")\n",
        "  t.left(90)\n",
        "  t.forward(100)\n",
        "\n",
        "2.사용자에게 다른 정보도 물어보고 친근하게 다시 답변해보자. 예를들어 취미에 관해서 다음과 같이 질문할 수도 있다.\"취미가 무엇인가요?\" \"영화감상\" \"네, 저도 영화감상 좋아합니다\"\n",
        "print(\"안녕하세요?\")\n",
        "name=input(\"이름이 어떻게 되시나요?\")\n",
        "print(\"만나서 반갑습니다.\"+name+\"씨\")\n",
        "print(\"이름의 길이는 다음과 같군요.: \",end=\"\")\n",
        "print(len(name))\n",
        "age=int(input(\"나이가 어떻게 되나요?\")) #변수 age를 선언하고 정수형으로 받음\n",
        "print(\"내년이면\",str(age+1),\"이 되시는군요.\")\n",
        "hobby=input(\"취미가 무엇인가요?: \") #변수 hobby를 선언하고 정수형으로 받음\n",
        "print(\"네 저도\"+hobby+\"좋아합니다.\")\n",
        "\n",
        "3.사용자로부터현재 날짜를 받아서 \"월/일/년도\" 순으로 출력해보자.\n",
        "year=input(\"오늘의 년도를 입력하시오: \") #변수 year를 선언하고 정수형으로 받음\n",
        "month=input(\"오늘의 월을 입력하시오: \") #변수 month를 선언하고 정수형으로 받음\n",
        "date=input(\"오늘의 일을 입력하시오: \") #변수 date를 선언하고 정수형으로 받음\n",
        "\n",
        "print(month+\"/\",date+\"/\",year,)\n",
        "\n",
        "4.str()을 사용하지 않고 print(\"올해는\",thisyear,\"입니다.\")와 같이 쉼표를 사용하여 변수와 문자열을 동시출력할 수 있는가? 위의 프로그램을 이런 식으로 변경해 보자.어떤 방법이 편리한가?\n",
        "import turtle #turtle 모듈울 불러온다\n",
        " now=time.time() \n",
        " thisYear=int(input(1970+now//(365*24*3600))) #변수 thisYear를 선언하고 정수형으로 받음\n",
        "\n",
        " print(\"올해는\",thisYear,\"입니다\")\n",
        " age=int(input(\"몇 살이신지요?\")) #변수 age를 선언하고 정수형으로 받음\n",
        " print(\"2050년에는\",(age+2050-thisYear),\"살 이시군요.\")"
      ],
      "execution_count": null,
      "outputs": []
    }
  ]
}
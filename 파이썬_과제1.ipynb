{
  "nbformat": 4,
  "nbformat_minor": 0,
  "metadata": {
    "colab": {
      "name": "파이썬 과제1.ipynb",
      "provenance": [],
      "authorship_tag": "ABX9TyMIiUailIwvenE5NoxP46Ow",
      "include_colab_link": true
    },
    "kernelspec": {
      "name": "python3",
      "display_name": "Python 3"
    },
    "language_info": {
      "name": "python"
    }
  },
  "cells": [
    {
      "cell_type": "markdown",
      "metadata": {
        "id": "view-in-github",
        "colab_type": "text"
      },
      "source": [
        "<a href=\"https://colab.research.google.com/github/LeeChoBin/basic/blob/main/%ED%8C%8C%EC%9D%B4%EC%8D%AC_%EA%B3%BC%EC%A0%9C1.ipynb\" target=\"_parent\"><img src=\"https://colab.research.google.com/assets/colab-badge.svg\" alt=\"Open In Colab\"/></a>"
      ]
    },
    {
      "cell_type": "code",
      "metadata": {
        "colab": {
          "base_uri": "https://localhost:8080/"
        },
        "id": "UvPavpGUUSGo",
        "outputId": "843bf465-4a9c-479f-83ac-0b43e2377b0c"
      },
      "source": [
        "print(\"=*50\")\n",
        "print(\"점수기준\\n100점에서 90점 이상   A\\n90점 미만 80점 이상   B\\n80점 미만70점 이상    C \\n70점 미만 60점 이상   D\\n60점 미만             F\")\n",
        "print(\"=*50\")\n",
        "score = int(input(\"점수를 입력하십시오: \"))\n",
        "\n",
        "if score >= 90 or score == 100:\n",
        "  print(\"A학점 입니다.\")\n",
        "elif score < 90 and score >= 80: \n",
        "  print(\"B학점 입니다.\") \n",
        "elif score < 80 and score >= 70:\n",
        "   print(\"C학점 입니다.\")      \n",
        "elif score < 70 and score >= 60:\n",
        "  print(\"D학점 입니다.\")\n",
        "else :\n",
        "  print(\"F학점 입니다.\")        "
      ],
      "execution_count": null,
      "outputs": [
        {
          "output_type": "stream",
          "name": "stdout",
          "text": [
            "=*50\n",
            "점수기준\n",
            "100점에서 90점 이상   A\n",
            "90점 미만 80점 이상   B\n",
            "80점 미만70점 이상    C \n",
            "70점 미만 60점 이상   D\n",
            "60점 미만             F\n",
            "=*50\n"
          ]
        }
      ]
    }
  ]
}
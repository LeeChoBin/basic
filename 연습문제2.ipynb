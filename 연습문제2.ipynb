{
  "nbformat": 4,
  "nbformat_minor": 0,
  "metadata": {
    "colab": {
      "name": "연습문제2.ipynb",
      "provenance": [],
      "authorship_tag": "ABX9TyObfyIInufbI8xGPYlopwHV",
      "include_colab_link": true
    },
    "kernelspec": {
      "name": "python3",
      "display_name": "Python 3"
    },
    "language_info": {
      "name": "python"
    }
  },
  "cells": [
    {
      "cell_type": "markdown",
      "metadata": {
        "id": "view-in-github",
        "colab_type": "text"
      },
      "source": [
        "<a href=\"https://colab.research.google.com/github/LeeChoBin/basic/blob/main/%EC%97%B0%EC%8A%B5%EB%AC%B8%EC%A0%9C2.ipynb\" target=\"_parent\"><img src=\"https://colab.research.google.com/assets/colab-badge.svg\" alt=\"Open In Colab\"/></a>"
      ]
    },
    {
      "cell_type": "code",
      "metadata": {
        "colab": {
          "base_uri": "https://localhost:8080/",
          "height": 139
        },
        "id": "6lSIFAOlg1U_",
        "outputId": "6bd3e7c9-adff-436f-a5a3-9167e0ad8da8"
      },
      "source": [
        "1.사용자에게 나이와 이름을 입력하게 한다. 사용자가 100살이 되는 연도를 화면에 출력하는 프로그램을 작성하라.\n",
        "name=input(\"이름을 입력하시오: \") #안내 메세지를 출력하고 사용자가 입력한 값을 문자열 형태로 받는다.\n",
        "age=int(input(\"나이를 입력하시오: \")) #문자열을 정수로 변환, 안내 메세지 입력과 입력값을 문자열로 받음\n",
        "year=2021-age+100 \n",
        "print(name+\"씨는\"+str(year)+\"년에100살이시네요\")\n",
        "\n",
        "2.사용자로부터 3개의 숫자를 받아서 평균을 계산하고 결과를 출력하는 프로그램을 작성하라.\n",
        "n1=int(input(\"첫번째 숫자를 입력하시오: \"))  #변수 n1를 선언하고 정수형으로 받음\n",
        "n2=int(input(\"두번째 숫자를 입력하시오: \"))  #변수 n2를 선언하고 정수형으로 받음\n",
        "n3=int(input(\"세번째 숫자를 입력하시오: \"))  #변수 n3를 선언하고 정수형으로 받음\n",
        "\n",
        "average=(n1+n2+n3)/3\n",
        "\n",
        "print(n1,n2,n3,\"의 평균은\",average\"입니다.\")\n",
        "\n",
        "3.사용자로부터 원의 반지름을 입력받아 원의 변적을 계산하는 프로그램을 작성해보자.\n",
        "radius=int(input(\"반지름을 입력하시오.: \"))  #변수 radius를 선언하고 정수형으로 받음\n",
        "area=3.141592*radius*radius\n",
        "print(\"반지름이\",radius,\"인 원의 넓이\",area,\"입니다.\")\n",
        "\n",
        "4.원의 반지름을 변수radius에 저장한다. radius의 초기값은 50이다. radius 변수를 20씩 증가시키면서 (0,0),(100,0),(200,0) 좌표에 원을 3개 그려보자. 터틀그래픽을 이용하고 반복문은 사용하지 않는다.\n",
        "import turtle #turtle 모듈 불러옴\n",
        "t=turtle,Turtle() #turtle을 t로 선언\n",
        "t.shape(\"turtle\") #turtle 모듈의 아이콘을 거북이 모양으로 선언\n",
        "\n",
        "radius=50  #변수 radius와 값을 선언\n",
        "t.up() #펜을 올린다\n",
        "t.goto(0,0) #(0,0)으로 이동\n",
        "t.down() #펜을내린다\n",
        "t.circle(radius) #반지름이 radius인 원 그림\n",
        "\n",
        "radius=radius+20 #변수와 값 선언\n",
        "t.up() #펜 올림\n",
        "t.goto(100,0)  #(100,0)이동\n",
        "t.down() #펜 내림\n",
        "t.circle(radius) #반지름이 변수인 원 그림\n",
        "\n",
        "radius=radius+20 #변수와 값 선언\n",
        "t.up() #펜 올림\n",
        "t.goto(200,0) #(200,0) 이동\n",
        "t.down() #펜 내림\n",
        "t.circle(radius) #반지름이 변수인 원 그림\n",
        "t._screen.exitonclick() #화면 클릭해 나가기\n",
        "\n",
        "5.삼각형의 한변의 길이를 side변수로 나타낸다, side변수의 초기값은 100이다. side변수를 이용하여 화면에 삼각형을 그려보자.\n",
        "import turtle #터틀 모듈 불러옴\n",
        "t=turtle.Turtle() #turt을 t로 선언\n",
        "t.shape(\"turtle\") #거북이 모양으로 함\n",
        "\n",
        "side=50 #변수 side와 값 선언\n",
        "t.forward(side) #50픽셀 직진\n",
        "t.left(120) #왼쪽으로 120도 회전\n",
        "t.forward(side) #50픽셀 직진\n",
        "t.left(120) #왼쪽으로 120도 회전\n",
        "t.forward(side)#왼쪽으로 120도 회전\n",
        "t._screen.exitonclick #화면 클릭해서 나가기 \n",
        "\n",
        "6.5번문제에서 우리는 삼각형의한변의 길이를 side변수로 표시했다.만약 우리가 삼각형의 한변의 길이를 200으로 변경한다고 하자. 5번코드에서 어디만 스정하면 되는가?\n",
        "import turtle #turtle 모듈 불러옴\n",
        "t=turtle.Turtle() #turtle을 t로 선언\n",
        "t.shape(\"turtle\") #거북이 모양으로 함\n",
        "\n",
        "side=200 #변수 side와 겂 정함\n",
        "t.forward(side) #200픽셀 직진\n",
        "t.left(120) # 왼쪽으로120도 회전\n",
        "t.forward(side) #200픽셀 직진\n",
        "t.left(120) #왼쪽으로 120도 회전\n",
        "t.forward(side) #200픽셀 직진\n",
        "t.left(120) #왼쪽으로 120도 회전\n",
        "t._screen.exitonclick()# 화면클릭해서 나가기\n",
        "\n",
        "7.다음과 같은 그림을 그리는 프로그램을 작성하시오. 이때 작은 사각형의 한변의 길이는 side변수에 저장하고 거북이가 회전하는 각도는 angle변수에 저장한다.\n",
        "import turtle #turtle 모듈 불러옴\n",
        "t=turtle.Turtle() #turtle을 t로 선언\n",
        "t.shape(\"turtle\") #거북이 모양으로 함\n",
        "side=50 #변수side와  변수값 선언\n",
        "angle=90 # 변수angle와 변수값 선언\n",
        "\n",
        "t.forward(side) #50픽셀 직진\n",
        "t.right(angle) #오른쪽으로 90도 회전\n",
        "t.forward(side) #50픽셀 직진\n",
        "t.right(angle) #오른쪽으로 90도 회전\n",
        "t.forward(side) #50픽셀 직진 \n",
        "t.right(angle) #오른쪽으로 90도 회전\n",
        "t.forward(side) #50픽셀 직진\n",
        " \n",
        "t.forward(side) #50픽셀 직진\n",
        "t.rlght(angle) #오른쪽으로 90도 회전\n",
        "t.forward(side) #50픽셀 직진\n",
        "t.right(angle) #오른쪽으로 90도 회전\n",
        "t.forward(side) #50픽셀 직진\n",
        "\n",
        "t.rlght(angle) #오른쪽으로 90도 회전\n",
        "t.forward(100) #100픽셀 만큼 직진\n",
        "t.right(180) #오른쪽으로 180도 이동\n",
        "\n",
        "t.forward(side) #50픽셀 직진\n",
        "t,right(angle) #오른쪽으로 90도 회전\n",
        "t.forward(side) #50픽셀 직진\n",
        "t.right(angle) #오른쪽으로 90도 회전\n",
        "t.forward(side) #50픽셀 직진\n",
        "t.right(angle) #오른쪽으로 90도 회전\n",
        "t.forward(side) #50픽셀 직진\n",
        "\n",
        "t.forward(side) #50픽셀 직진\n",
        "t.right(angle) #오른쪽으로 90도 회전\n",
        "t.forward(side) #50픽셀 직진\n",
        "t.right(angle) #오른쪽으로 90도 회전\n",
        "t.forward(side) #50픽셀 직진\n",
        "t.write(\"닫으려면 화면클릭\") \n",
        "t._screen.exitonclick() #클릭해서 나가기\n"
      ],
      "execution_count": null,
      "outputs": [
        {
          "output_type": "error",
          "ename": "SyntaxError",
          "evalue": "ignored",
          "traceback": [
            "\u001b[0;36m  File \u001b[0;32m\"<ipython-input-2-1d082f3f4182>\"\u001b[0;36m, line \u001b[0;32m1\u001b[0m\n\u001b[0;31m    1.사용자에게 나이와 이름을 입력하게 한다. 사용자가 100살이 되는 연도를 화면에 출력하는 프로그램을 작성하라.\u001b[0m\n\u001b[0m          ^\u001b[0m\n\u001b[0;31mSyntaxError\u001b[0m\u001b[0;31m:\u001b[0m invalid syntax\n"
          ]
        }
      ]
    }
  ]
}